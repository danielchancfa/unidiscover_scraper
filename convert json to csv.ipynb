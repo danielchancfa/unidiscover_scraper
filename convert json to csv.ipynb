{
 "cells": [
  {
   "cell_type": "code",
   "execution_count": 1,
   "metadata": {},
   "outputs": [],
   "source": [
    "import json\n",
    "import pandas as pd"
   ]
  },
  {
   "cell_type": "code",
   "execution_count": 2,
   "metadata": {},
   "outputs": [],
   "source": [
    "data_list = []\n",
    "with open('course_data_40page.json', 'r') as f:\n",
    "    data_json = json.load(f)"
   ]
  },
  {
   "cell_type": "code",
   "execution_count": 3,
   "metadata": {},
   "outputs": [],
   "source": [
    "df = pd.read_json('course_data_40page.json')"
   ]
  },
  {
   "cell_type": "code",
   "execution_count": 5,
   "metadata": {},
   "outputs": [],
   "source": [
    "dfs = []\n",
    "\n",
    "# Iterate through the JSON entries and create DataFrames\n",
    "for entry in data_json:\n",
    "    courseidentifier = entry[\"courseidentifier\"]\n",
    "    uniname = entry[\"uniname\"]\n",
    "    uniid = entry[\"uniid\"]\n",
    "    coursename = entry[\"coursename\"]\n",
    "    link = entry[\"link\"]\n",
    "    course_name = entry[\"course_name\"]\n",
    "    Study_mode = entry[\"Study mode\"]\n",
    "    Distance_learning = entry[\"Distance learning\"]\n",
    "    Placement_year = entry[\"Placement year\"]\n",
    "    Year_abroad = entry[\"Year abroad\"]\n",
    "    Foundation_year = entry[\"Foundation year\"]\n",
    "    \n",
    "    df_dict = {\n",
    "                    \"courseidentifier\": courseidentifier,\n",
    "                    \"uniname\": uniname,\n",
    "                    \"uniid\": uniid,\n",
    "                    \"coursename\": coursename,\n",
    "                    \"link\": link,\n",
    "                    \"course_name\": course_name,\n",
    "                    \"Study mode\": Study_mode,\n",
    "                    \"Distance learning\": Distance_learning,\n",
    "                    \"Placement year\": Placement_year,\n",
    "                    \"Year abroad\": Year_abroad,\n",
    "                    \"Foundation year\": Foundation_year\n",
    "                }\n",
    "    if 'Length' in entry.keys():\n",
    "        df_dict.update({'Length':entry['Length']})\n",
    "    else:\n",
    "        df_dict.update({'Length':''})\n",
    "        \n",
    "    #Earning\n",
    "    for idx, earning_item in enumerate(entry[\"earning\"]):\n",
    "        for subject, subject_data in earning_item.items():\n",
    "            \n",
    "            df_dict.update({f'subject{idx+1}_subject':subject})\n",
    "            \n",
    "            for time_period, time_data in subject_data.items():\n",
    "                for k, v in time_data.items():\n",
    "                    df_dict.update({f'subject{idx+1}_{time_period}_{k}'.replace(' ','_').lower():v.strip('\\n')})\n",
    "    #Employment                \n",
    "    for idx, employment_item in enumerate(entry['employment']):\n",
    "        for subject, subject_data in employment_item.items():\n",
    "            for k, v in subject_data.items():\n",
    "                df_dict.update({f'subject{idx+1}_{k}'.replace(' ','_').replace('-','_').lower():v.strip('\\n')})\n",
    "    \n",
    "    #occuption\n",
    "    for idx, occuption_items in enumerate(entry['occuption']):\n",
    "        for occuption_c,  occuption_item in enumerate(occuption_items.items()):\n",
    "            df_dict.update({f'subject{idx+1}_occuption_{occuption_item[0]}'.replace(' ','_').replace('-','_').replace(',','').lower():occuption_item[1]})\n",
    "    \n",
    "    df = pd.DataFrame([df_dict])\n",
    "    dfs.append(df)\n",
    "\n",
    "# Concatenate all DataFrames into one\n",
    "final_df = pd.concat(dfs, ignore_index=True)\n",
    "\n",
    "# Display the resulting DataFrame\n"
   ]
  },
  {
   "cell_type": "code",
   "execution_count": 184,
   "metadata": {
    "scrolled": true
   },
   "outputs": [],
   "source": [
    "final_df.to_csv('discover_uni(1).csv')"
   ]
  },
  {
   "cell_type": "code",
   "execution_count": 13,
   "metadata": {},
   "outputs": [
    {
     "data": {
      "text/plain": [
       "(33368, 284)"
      ]
     },
     "execution_count": 13,
     "metadata": {},
     "output_type": "execute_result"
    }
   ],
   "source": [
    "final_df.shape"
   ]
  },
  {
   "cell_type": "code",
   "execution_count": 26,
   "metadata": {},
   "outputs": [
    {
     "data": {
      "text/plain": [
       "'|    | courseidentifier                       | uniname                   |    uniid | coursename                            | link                                                   | course_name                           | Study mode   | Distance learning   | Placement year   | Year abroad   |\\n|---:|:---------------------------------------|:--------------------------|---------:|:--------------------------------------|:-------------------------------------------------------|:--------------------------------------|:-------------|:--------------------|:-----------------|:--------------|\\n|  0 | 10008071/AAUNDERRADUATE5YEAR/Full-time | AA School of Architecture | 10008071 | MArch Architecture                    | /course-details/10008071/AAUNDERRADUATE5YEAR/Full-time | MArch Architecture                    | Full time    | Not Available       | Not Available    | Not Available |\\n|  1 | 10007783/LV61/Full-time                | University of Aberdeen    | 10007783 | MA (Hons) Anthropology and History    | /course-details/10007783/LV61/Full-time                | MA (Hons) Anthropology and History    | Full time    | Not Available       | Not Available    | Optional      |\\n|  2 | 10007783/LV65/Full-time                | University of Aberdeen    | 10007783 | MA (Hons) Anthropology and Philosophy | /course-details/10007783/LV65/Full-time                | MA (Hons) Anthropology and Philosophy | Full time    | Not Available       | Not Available    | Optional      |\\n|  3 | 10007783/LR61/Full-time                | University of Aberdeen    | 10007783 | MA (Hons) Anthropology and French     | /course-details/10007783/LR61/Full-time                | MA (Hons) Anthropology and French     | Full time    | Not Available       | Not Available    | Compulsory    |\\n|  4 | 10007783/LQ65/Full-time                | University of Aberdeen    | 10007783 | MA (Hons) Anthropology and Gaelic     | /course-details/10007783/LQ65/Full-time                | MA (Hons) Anthropology and Gaelic     | Full time    | Not Available       | Not Available    | Optional      |'"
      ]
     },
     "execution_count": 26,
     "metadata": {},
     "output_type": "execute_result"
    }
   ],
   "source": [
    "final_df.head().iloc[:,:10].to_markdown()"
   ]
  },
  {
   "cell_type": "code",
   "execution_count": null,
   "metadata": {},
   "outputs": [],
   "source": []
  },
  {
   "cell_type": "code",
   "execution_count": null,
   "metadata": {},
   "outputs": [],
   "source": []
  }
 ],
 "metadata": {
  "kernelspec": {
   "display_name": "Python 3",
   "language": "python",
   "name": "python3"
  },
  "language_info": {
   "codemirror_mode": {
    "name": "ipython",
    "version": 3
   },
   "file_extension": ".py",
   "mimetype": "text/x-python",
   "name": "python",
   "nbconvert_exporter": "python",
   "pygments_lexer": "ipython3",
   "version": "3.7.4"
  }
 },
 "nbformat": 4,
 "nbformat_minor": 4
}
